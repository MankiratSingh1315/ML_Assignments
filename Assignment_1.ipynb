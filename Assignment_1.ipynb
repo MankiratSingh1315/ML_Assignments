{
  "nbformat": 4,
  "nbformat_minor": 0,
  "metadata": {
    "colab": {
      "provenance": []
    },
    "kernelspec": {
      "name": "python3",
      "display_name": "Python 3"
    },
    "language_info": {
      "name": "python"
    }
  },
  "cells": [
    {
      "cell_type": "code",
      "execution_count": null,
      "metadata": {
        "id": "auMKroVf-Zh8"
      },
      "outputs": [],
      "source": [
        "import numpy as np"
      ]
    },
    {
      "cell_type": "code",
      "source": [
        "arr = np.array([1, 2, 3, 6, 4, 5])\n",
        "\n",
        "flipped = np.flip(arr)\n",
        "\n",
        "print(flipped)"
      ],
      "metadata": {
        "colab": {
          "base_uri": "https://localhost:8080/"
        },
        "id": "UHWOtLt6_H_V",
        "outputId": "bd2cc6f4-4878-4bd5-8e35-d792221a8fc0"
      },
      "execution_count": null,
      "outputs": [
        {
          "output_type": "stream",
          "name": "stdout",
          "text": [
            "[5 4 6 3 2 1]\n"
          ]
        }
      ]
    },
    {
      "cell_type": "code",
      "source": [
        "array1 = np.array([[1, 2, 3], [2, 4, 5], [1, 2, 3]])\n",
        "res = np.ndarray.flatten(array1)\n",
        "print(res)"
      ],
      "metadata": {
        "colab": {
          "base_uri": "https://localhost:8080/"
        },
        "id": "aMqiYNhdAAGs",
        "outputId": "d3da9519-8574-4e39-da94-7b8a8796f00c"
      },
      "execution_count": null,
      "outputs": [
        {
          "output_type": "stream",
          "name": "stdout",
          "text": [
            "[1 2 3 2 4 5 1 2 3]\n"
          ]
        }
      ]
    },
    {
      "cell_type": "code",
      "source": [
        "arr1 = np.array([[1, 2], [3, 4]])\n",
        "arr2 = np.array([[1, 2], [4, 4]])\n",
        "\n",
        "comparison = arr1 == arr2\n",
        "equal_arrays = comparison.all()\n",
        "\n",
        "print(equal_arrays)"
      ],
      "metadata": {
        "colab": {
          "base_uri": "https://localhost:8080/"
        },
        "id": "EMQ5WHg_Aq25",
        "outputId": "dfe29d78-09f1-4b75-94ee-6c5b6239e746"
      },
      "execution_count": null,
      "outputs": [
        {
          "output_type": "stream",
          "name": "stdout",
          "text": [
            "False\n"
          ]
        }
      ]
    },
    {
      "cell_type": "code",
      "source": [
        "x = np.array([1, 2, 3, 4, 5, 1, 2, 1, 1, 1])\n",
        "x_count = np.bincount(x)\n",
        "x_most_frequent = np.argmax(x_count)\n",
        "x_indices = np.where(x == x_most_frequent)[0]\n",
        "print(x_most_frequent, x_indices)\n",
        "\n",
        "y = np.array([1, 1, 1, 2, 3, 4, 2, 4, 3, 3])\n",
        "y_counts = np.bincount(y)\n",
        "y_most_frequent = np.argmax(y_counts)\n",
        "y_indices = np.where(y == y_most_frequent)[0]\n",
        "print(y_most_frequent, y_indices)"
      ],
      "metadata": {
        "colab": {
          "base_uri": "https://localhost:8080/"
        },
        "id": "bsn-QuZqAuOp",
        "outputId": "a78f1bf1-da55-415b-aa74-fdc8a61880e9"
      },
      "execution_count": null,
      "outputs": [
        {
          "output_type": "stream",
          "name": "stdout",
          "text": [
            "1 [0 5 7 8 9]\n",
            "1 [0 1 2]\n"
          ]
        }
      ]
    },
    {
      "cell_type": "code",
      "source": [
        "gfg = np.matrix('[4, 1, 9; 12, 3, 1; 4, 5, 6]')\n",
        "print(np.matrix.sum(gfg))\n",
        "print(np.matrix.sum(gfg,axis = 1))\n",
        "print(np.matrix.sum(gfg,axis = 0))"
      ],
      "metadata": {
        "colab": {
          "base_uri": "https://localhost:8080/"
        },
        "id": "a55AsAEtBtBk",
        "outputId": "816ea6fe-4025-4ee7-f8d2-bd8f55d7700e"
      },
      "execution_count": null,
      "outputs": [
        {
          "output_type": "stream",
          "name": "stdout",
          "text": [
            "45\n",
            "[[14]\n",
            " [16]\n",
            " [15]]\n",
            "[[20  9 16]]\n"
          ]
        }
      ]
    },
    {
      "cell_type": "code",
      "source": [
        "n_array = np.array([[55, 25, 15],[30, 44, 2],[11, 45, 77]])\n",
        "print(np.matrix.diagonal(n_array).sum(),end=\"\\n\\n\")\n",
        "print(np.linalg.eig(n_array).eigenvalues,end=\"\\n\\n\")\n",
        "print(np.linalg.eig(n_array).eigenvectors, end=\"\\n\\n\")\n",
        "print(np.linalg.inv(n_array),end=\"\\n\\n\")\n",
        "print(np.linalg.det(n_array))"
      ],
      "metadata": {
        "colab": {
          "base_uri": "https://localhost:8080/"
        },
        "id": "37dKrZteCIsk",
        "outputId": "ef111898-43bb-4eb2-e8d5-8757522c1ec7"
      },
      "execution_count": null,
      "outputs": [
        {
          "output_type": "stream",
          "name": "stdout",
          "text": [
            "176\n",
            "\n",
            "[98.16835147 28.097044   49.73460452]\n",
            "\n",
            "[[ 0.4574917   0.34637121 -0.15017693]\n",
            " [ 0.28447814 -0.72784061 -0.4852124 ]\n",
            " [ 0.84248058  0.59184038  0.8614034 ]]\n",
            "\n",
            "[[ 0.02404141 -0.00911212 -0.00444671]\n",
            " [-0.01667882  0.02966905  0.0024785 ]\n",
            " [ 0.00631287 -0.01603732  0.01217379]]\n",
            "\n",
            "137180.0000000001\n"
          ]
        }
      ]
    },
    {
      "cell_type": "code",
      "source": [
        "p = [[1, 2], [2, 3]]\n",
        "q = [[4, 5], [6, 7]]\n",
        "print(np.dot(p,q),end=\"\\n\\n\")\n",
        "print(np.cov(p,q))"
      ],
      "metadata": {
        "colab": {
          "base_uri": "https://localhost:8080/"
        },
        "id": "xSUG6q-iFQFI",
        "outputId": "d2ee23ee-baf2-45eb-fe34-ff0e8905ea02"
      },
      "execution_count": null,
      "outputs": [
        {
          "output_type": "stream",
          "name": "stdout",
          "text": [
            "[[16 19]\n",
            " [26 31]]\n",
            "\n",
            "[[0.5 0.5 0.5 0.5]\n",
            " [0.5 0.5 0.5 0.5]\n",
            " [0.5 0.5 0.5 0.5]\n",
            " [0.5 0.5 0.5 0.5]]\n"
          ]
        }
      ]
    },
    {
      "cell_type": "code",
      "source": [
        "p = [[1, 2], [2, 3], [4, 5]]\n",
        "q = [[4, 5, 1], [6, 7, 2]]\n",
        "print(np.dot(p,q),end=\"\\n\\n\")\n",
        "print(np.cov(np.ravel(p),np.ravel(q)))"
      ],
      "metadata": {
        "colab": {
          "base_uri": "https://localhost:8080/"
        },
        "id": "mWi8zTYeGOQc",
        "outputId": "f5f4f386-ed2d-4e5d-9dd8-aa2f0802e7bb"
      },
      "execution_count": null,
      "outputs": [
        {
          "output_type": "stream",
          "name": "stdout",
          "text": [
            "[[16 19  5]\n",
            " [26 31  8]\n",
            " [46 55 14]]\n",
            "\n",
            "[[2.16666667 0.23333333]\n",
            " [0.23333333 5.36666667]]\n"
          ]
        }
      ]
    },
    {
      "cell_type": "code",
      "source": [
        "x = np.array([[2, 3, 4], [3, 2, 9]])\n",
        "y = np.array([[1, 5, 0], [5, 10, 3]])\n",
        "print(np.inner(x,y))\n",
        "print(np.outer(x,y))\n",
        "print(np.cross(y,x))"
      ],
      "metadata": {
        "colab": {
          "base_uri": "https://localhost:8080/"
        },
        "id": "H2kT09Z8HyOk",
        "outputId": "b843ce16-ebaa-4e1f-f35c-b5203e68036a"
      },
      "execution_count": null,
      "outputs": [
        {
          "output_type": "stream",
          "name": "stdout",
          "text": [
            "[[17 52]\n",
            " [13 62]]\n",
            "[[ 2 10  0 10 20  6]\n",
            " [ 3 15  0 15 30  9]\n",
            " [ 4 20  0 20 40 12]\n",
            " [ 3 15  0 15 30  9]\n",
            " [ 2 10  0 10 20  6]\n",
            " [ 9 45  0 45 90 27]]\n",
            "[[ 20  -4  -7]\n",
            " [ 84 -36 -20]]\n"
          ]
        }
      ]
    },
    {
      "cell_type": "code",
      "source": [
        "array = np.array([[1, -2, 3],[-4, 5, -6]])\n",
        "print(np.abs(array),end = \"\\n\\n\")\n",
        "arr = array.flatten()\n",
        "\n",
        "print(np.percentile(arr,25))\n",
        "print(np.percentile(arr,50))\n",
        "print(np.percentile(arr,75),end=\"\\n\\n\")\n",
        "\n",
        "print(arr.mean())\n",
        "print(np.median(arr))\n",
        "print(np.std(arr))"
      ],
      "metadata": {
        "colab": {
          "base_uri": "https://localhost:8080/"
        },
        "id": "tx-7WB5dJjf4",
        "outputId": "080c6da2-c245-4ede-b70f-b09c2e15e7df"
      },
      "execution_count": null,
      "outputs": [
        {
          "output_type": "stream",
          "name": "stdout",
          "text": [
            "[[1 2 3]\n",
            " [4 5 6]]\n",
            "\n",
            "-3.5\n",
            "-0.5\n",
            "2.5\n",
            "\n",
            "-0.5\n",
            "-0.5\n",
            "3.8622100754188224\n"
          ]
        }
      ]
    },
    {
      "cell_type": "code",
      "source": [
        "a = np.array([-1.8, -1.6, -0.5, 0.5,1.6, 1.8, 3.0])\n",
        "\n",
        "print(np.floor(a), np.ceil(a), np.trunc(a), np.round(a))"
      ],
      "metadata": {
        "colab": {
          "base_uri": "https://localhost:8080/"
        },
        "id": "7jeNDdcLKi3k",
        "outputId": "9fb09124-e121-458a-8973-a3f490291ef6"
      },
      "execution_count": null,
      "outputs": [
        {
          "output_type": "stream",
          "name": "stdout",
          "text": [
            "[-2. -2. -1.  0.  1.  1.  3.] [-1. -1. -0.  1.  2.  2.  3.] [-1. -1. -0.  0.  1.  1.  3.] [-2. -2. -0.  0.  2.  2.  3.]\n"
          ]
        }
      ]
    },
    {
      "cell_type": "code",
      "source": [
        "array = np.array([10, 52, 62, 16, 16, 54, 453])\n",
        "\n",
        "sorted_array = np.sort(array)\n",
        "indices_sorted_array = np.argsort(array)\n",
        "four_smallest_elements = np.sort(array)[:4]\n",
        "five_largest_elements = np.sort(array)[-5:]\n",
        "\n",
        "print(sorted_array, indices_sorted_array, four_smallest_elements, five_largest_elements, sep= \"\\n\")"
      ],
      "metadata": {
        "colab": {
          "base_uri": "https://localhost:8080/"
        },
        "id": "ELNJ0M5yHyht",
        "outputId": "50c595f0-12b5-4684-bfc4-e2b828a46781"
      },
      "execution_count": null,
      "outputs": [
        {
          "output_type": "stream",
          "name": "stdout",
          "text": [
            "[ 10  16  16  52  54  62 453]\n",
            "[0 3 4 1 5 2 6]\n",
            "[10 16 16 52]\n",
            "[ 16  52  54  62 453]\n"
          ]
        }
      ]
    },
    {
      "cell_type": "code",
      "source": [
        "array = np.array([1.0, 1.2, 2.2, 2.0, 3.0, 2.0])\n",
        "\n",
        "integer_elements = array[array == array.astype(int)]\n",
        "\n",
        "float_elements = array[array != array.astype(int)]\n",
        "\n",
        "print(integer_elements, float_elements,sep=\"\\n\")"
      ],
      "metadata": {
        "colab": {
          "base_uri": "https://localhost:8080/"
        },
        "id": "0jdWDM--LE1I",
        "outputId": "fc2364f8-81e7-428e-96d8-97b092b9ad74"
      },
      "execution_count": null,
      "outputs": [
        {
          "output_type": "stream",
          "name": "stdout",
          "text": [
            "[1. 2. 3. 2.]\n",
            "[1.2 2.2]\n"
          ]
        }
      ]
    },
    {
      "cell_type": "code",
      "source": [
        "from PIL import Image\n",
        "import numpy as np"
      ],
      "metadata": {
        "id": "ClCpzlYxMGJk"
      },
      "execution_count": null,
      "outputs": []
    },
    {
      "cell_type": "code",
      "source": [
        "text_file_path=\"\"\n",
        "def img_to_array(path):\n",
        "    global text_file_path\n",
        "    with Image.open(path) as img:\n",
        "        img_array = np.array(img)\n",
        "        if len(img_array.shape) == 3:\n",
        "            img_type = 'RGB'\n",
        "        elif len(img_array.shape) == 2:\n",
        "            img_type = 'Grayscale'\n",
        "        else:\n",
        "            raise ValueError(\"Unsupported image format\")\n",
        "\n",
        "        img_array_text = np.array2string(img_array, separator=',', threshold=np.inf)\n",
        "\n",
        "        text_file_path = path.rsplit('.', 1)[0] + '_array.txt'\n",
        "        with open(text_file_path, 'w') as file:\n",
        "            file.write(f\"Image Type: {img_type}\\n\")\n",
        "            file.write(\"Array Data:\\n\")\n",
        "            file.write(img_array_text)\n",
        "\n",
        "        print(f\"Image array saved to {text_file_path}\")"
      ],
      "metadata": {
        "id": "bB56TGVjSwVz"
      },
      "execution_count": null,
      "outputs": []
    },
    {
      "cell_type": "code",
      "source": [
        "img_to_array('upload.png')"
      ],
      "metadata": {
        "colab": {
          "base_uri": "https://localhost:8080/"
        },
        "id": "rGPAb4-cQrU6",
        "outputId": "aaba0d94-8307-48f5-941a-19f572a3edea"
      },
      "execution_count": null,
      "outputs": [
        {
          "output_type": "stream",
          "name": "stdout",
          "text": [
            "Image array saved to upload_array.txt\n"
          ]
        }
      ]
    },
    {
      "cell_type": "code",
      "source": [
        "\n",
        "with open(text_file_path, 'r') as file:\n",
        "    file_content = file.read()\n",
        "    print(file_content)"
      ],
      "metadata": {
        "id": "kQq7Vc74RED5"
      },
      "execution_count": null,
      "outputs": []
    }
  ]
}